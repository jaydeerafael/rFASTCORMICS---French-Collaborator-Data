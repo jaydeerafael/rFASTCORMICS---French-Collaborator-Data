{
 "cells": [
  {
   "cell_type": "markdown",
   "id": "c0710560-b31a-4e96-9033-37fddc9b74f3",
   "metadata": {},
   "source": [
    "# 0. Import Libararies"
   ]
  },
  {
   "cell_type": "code",
   "execution_count": 2,
   "id": "f47887e7-0849-4b14-8037-1b0e9ce81009",
   "metadata": {},
   "outputs": [],
   "source": [
    "#!pip install numpy==1.21.5  #NOTE: numpy needs to be a lower version to be compatible with cobra. \n",
    "import numpy \n",
    "import pandas\n",
    "import cobra\n",
    "import scipy, scipy.signal\n",
    "from pathlib import Path\n",
    "from cobra.io import load_matlab_model, save_matlab_model, read_sbml_model, write_sbml_model, load_model\n",
    "import logging\n",
    "\n",
    "data_dir = Path(\".\") / \"..\" / \"src\" / \"cobra\" / \"data\"\n",
    "data_dir = data_dir.resolve()\n"
   ]
  },
  {
   "cell_type": "markdown",
   "id": "4143a187-2880-443f-abdb-2e7c595d4c97",
   "metadata": {},
   "source": [
    "# 1. Read models extracted from MATLAB"
   ]
  },
  {
   "cell_type": "code",
   "execution_count": 25,
   "id": "1b989c52-092d-48de-b107-00792b2796e0",
   "metadata": {},
   "outputs": [
    {
     "name": "stderr",
     "output_type": "stream",
     "text": [
      "No objective in listOfObjectives\n",
      "No objective coefficients in model. Unclear what should be optimized\n",
      "No objective in listOfObjectives\n",
      "No objective coefficients in model. Unclear what should be optimized\n",
      "No objective in listOfObjectives\n",
      "No objective coefficients in model. Unclear what should be optimized\n",
      "No objective in listOfObjectives\n",
      "No objective coefficients in model. Unclear what should be optimized\n",
      "No objective in listOfObjectives\n",
      "No objective coefficients in model. Unclear what should be optimized\n",
      "No objective in listOfObjectives\n",
      "No objective coefficients in model. Unclear what should be optimized\n",
      "No objective in listOfObjectives\n",
      "No objective coefficients in model. Unclear what should be optimized\n",
      "No objective in listOfObjectives\n",
      "No objective coefficients in model. Unclear what should be optimized\n",
      "No objective in listOfObjectives\n",
      "No objective coefficients in model. Unclear what should be optimized\n",
      "No objective in listOfObjectives\n",
      "No objective coefficients in model. Unclear what should be optimized\n",
      "No objective in listOfObjectives\n",
      "No objective coefficients in model. Unclear what should be optimized\n",
      "No objective in listOfObjectives\n",
      "No objective coefficients in model. Unclear what should be optimized\n",
      "No objective in listOfObjectives\n",
      "No objective coefficients in model. Unclear what should be optimized\n"
     ]
    }
   ],
   "source": [
    "models = [\"Lami154\", \"Lami153\", \"Lami46\",          \n",
    "          \"Osci154\", \"Osci153\", \"Osci46\",         \n",
    "          \"Stat154\", \"Stat153\", \"Stat46\"]\n",
    "\n",
    "model_dict = {} \n",
    "\n",
    "#Store the models in a dictionary and their names as keys\n",
    "\n",
    "for model_name in models:\n",
    "    file_path = data_dir / f'PATH{model_name}.sbml.xml'\n",
    "    model = read_sbml_model(str(file_path.resolve()))\n",
    "    model_dict[model_name] = model\n"
   ]
  },
  {
   "cell_type": "markdown",
   "id": "de5d1f9e-e5ad-46d0-881b-585c064c8643",
   "metadata": {},
   "source": [
    "# 2. Exploration: Random Sampling"
   ]
  },
  {
   "cell_type": "markdown",
   "id": "b29badd6-2578-4dbc-b396-2bbfa225c5c7",
   "metadata": {},
   "source": [
    "## 2a.) Manually"
   ]
  },
  {
   "cell_type": "code",
   "execution_count": null,
   "id": "15dec386-884d-4291-904e-1212c300594b",
   "metadata": {},
   "outputs": [],
   "source": [
    "k = 1000\n",
    "n = 5000\n",
    "\n",
    "Lami153_optgp = cobra.sampling.optgp.OptGPSampler(models[0], processes = 8, thinning = k) # Random Sampling Lami154\n",
    "Lami153_optgp = Lami153_optgp.sample(n = n, fluxes = True).transpose()\n",
    "Lami153_optgp.to_csv('Laminar_optgp_k1000_n5000.csv') "
   ]
  },
  {
   "cell_type": "markdown",
   "id": "2d7db37c-6a97-42fe-907c-d46ba6cc3862",
   "metadata": {},
   "source": [
    "## 2b.) For loop (a bit finicky)"
   ]
  },
  {
   "cell_type": "code",
   "execution_count": null,
   "id": "75ac1098-1218-47ea-86c8-1373b83fd9e1",
   "metadata": {},
   "outputs": [],
   "source": [
    "import time \n",
    "\n",
    "times = []\n",
    "\n",
    "for x in model_dict:\n",
    "    start = time.time()\n",
    "    final = cobra.sampling.optgp.OptGPSampler(model_dict[x], processes = 8, thinning = k)\n",
    "    final_fluxes = final.sample(n = n, fluxes = True).transpose()\n",
    "    final_fluxes.to_csv(f\"{x}.csv\")\n",
    "    end = time.time()\n",
    "    times.append(end - start)\n",
    "\n",
    "print(times)\n",
    "\n",
    "\n"
   ]
  }
 ],
 "metadata": {
  "kernelspec": {
   "display_name": "Python 3 (ipykernel)",
   "language": "python",
   "name": "python3"
  },
  "language_info": {
   "codemirror_mode": {
    "name": "ipython",
    "version": 3
   },
   "file_extension": ".py",
   "mimetype": "text/x-python",
   "name": "python",
   "nbconvert_exporter": "python",
   "pygments_lexer": "ipython3",
   "version": "3.10.6"
  }
 },
 "nbformat": 4,
 "nbformat_minor": 5
}
